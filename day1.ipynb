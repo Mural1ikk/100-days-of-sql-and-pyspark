{
  "cells": [
    {
      "cell_type": "markdown",
      "metadata": {
        "id": "view-in-github",
        "colab_type": "text"
      },
      "source": [
        "<a href=\"https://colab.research.google.com/github/Mural1ikk/100-days-of-sql-and-pyspark/blob/main/day1.ipynb\" target=\"_parent\"><img src=\"https://colab.research.google.com/assets/colab-badge.svg\" alt=\"Open In Colab\"/></a>"
      ]
    },
    {
      "cell_type": "code",
      "source": [
        "from pyspark.sql import SparkSession\n",
        "from pyspark.sql.functions import col, year, count\n",
        "\n",
        "# Initialize Spark Session\n",
        "spark = SparkSession.builder.appName(\"SubscriptionsAnalysis\").getOrCreate()\n",
        "\n",
        "# Create dummy dataframes (replace with your actual data loading)\n",
        "subscriptions_data = [\n",
        "    (9, \"2020-02-18\", \"2021-10-30\"),\n",
        "    (3, \"2021-09-21\", \"2021-11-13\"),\n",
        "    (11, \"2020-02-28\", \"2020-08-18\"),\n",
        "    (13, \"2021-04-20\", \"2021-09-22\"),\n",
        "    (4, \"2020-10-26\", \"2021-05-08\"),\n",
        "    (5, \"2020-09-11\", \"2021-01-17\")\n",
        "]\n",
        "\n",
        "streams_data = [\n",
        "    (14, 9, \"2020-05-16\"),\n",
        "    (16, 3, \"2021-10-27\"),\n",
        "    (18, 11, \"2020-04-29\"),\n",
        "    (17, 13, \"2021-08-08\"),\n",
        "    (19, 4, \"2020-12-31\"),\n",
        "    (13, 5, \"2021-01-05\")\n",
        "]\n",
        "\n",
        "subscriptions_df = spark.createDataFrame(subscriptions_data, [\"account_id\", \"start_date\", \"end_date\"])\n",
        "streams_df = spark.createDataFrame(streams_data, [\"session_id\", \"account_id\", \"stream_date\"])\n",
        "subscriptions_df.show()\n",
        "streams_df.show()"
      ],
      "metadata": {
        "colab": {
          "base_uri": "https://localhost:8080/"
        },
        "id": "CuiObKZu4IEY",
        "outputId": "5fc9c343-6ba7-4329-ed74-9b43a154ed51"
      },
      "execution_count": 1,
      "outputs": [
        {
          "output_type": "stream",
          "name": "stdout",
          "text": [
            "+----------+----------+----------+\n",
            "|account_id|start_date|  end_date|\n",
            "+----------+----------+----------+\n",
            "|         9|2020-02-18|2021-10-30|\n",
            "|         3|2021-09-21|2021-11-13|\n",
            "|        11|2020-02-28|2020-08-18|\n",
            "|        13|2021-04-20|2021-09-22|\n",
            "|         4|2020-10-26|2021-05-08|\n",
            "|         5|2020-09-11|2021-01-17|\n",
            "+----------+----------+----------+\n",
            "\n",
            "+----------+----------+-----------+\n",
            "|session_id|account_id|stream_date|\n",
            "+----------+----------+-----------+\n",
            "|        14|         9| 2020-05-16|\n",
            "|        16|         3| 2021-10-27|\n",
            "|        18|        11| 2020-04-29|\n",
            "|        17|        13| 2021-08-08|\n",
            "|        19|         4| 2020-12-31|\n",
            "|        13|         5| 2021-01-05|\n",
            "+----------+----------+-----------+\n",
            "\n"
          ]
        }
      ]
    },
    {
      "cell_type": "code",
      "source": [
        "#Write an SQL query to report the number of accounts that bought a subscription in 2021 but did not have any stream session.\n",
        "\n",
        "from pyspark.sql.functions import col, year, count\n",
        "\n",
        "join_df = subscriptions_df.join(streams_df, \"account_id\", \"left\")\n",
        "filters_df  = join_df.filter((year(col(\"start_date\")) <= 2021) & (year(col(\"end_date\")) >= 2021) &\n",
        "                             ((col(\"stream_date\").isNull()) | (year(col(\"stream_date\")) != 2021)))\n",
        "accounts_count = filters_df.select(\"account_id\").distinct().count()\n",
        "results_df = spark.createDataFrame([(accounts_count,)], [\"accounts_count\"])\n",
        "results_df.show()"
      ],
      "metadata": {
        "colab": {
          "base_uri": "https://localhost:8080/"
        },
        "id": "5HgHC6VV4nor",
        "outputId": "52024544-ed6b-4cfc-8d9e-d159a0e554e9"
      },
      "execution_count": null,
      "outputs": [
        {
          "output_type": "stream",
          "name": "stdout",
          "text": [
            "+--------------+\n",
            "|accounts_count|\n",
            "+--------------+\n",
            "|             2|\n",
            "+--------------+\n",
            "\n"
          ]
        }
      ]
    }
  ],
  "metadata": {
    "colab": {
      "provenance": [],
      "authorship_tag": "ABX9TyNInKjUIb/5NkGoiEUw4UK3",
      "include_colab_link": true
    },
    "kernelspec": {
      "display_name": "Python 3",
      "name": "python3"
    },
    "language_info": {
      "name": "python"
    }
  },
  "nbformat": 4,
  "nbformat_minor": 0
}