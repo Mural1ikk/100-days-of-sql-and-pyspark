{
  "nbformat": 4,
  "nbformat_minor": 0,
  "metadata": {
    "colab": {
      "provenance": [],
      "authorship_tag": "ABX9TyNXbvm1hNIatqDWtapzkvdj",
      "include_colab_link": true
    },
    "kernelspec": {
      "name": "python3",
      "display_name": "Python 3"
    },
    "language_info": {
      "name": "python"
    }
  },
  "cells": [
    {
      "cell_type": "markdown",
      "metadata": {
        "id": "view-in-github",
        "colab_type": "text"
      },
      "source": [
        "<a href=\"https://colab.research.google.com/github/Mural1ikk/100-days-of-sql-and-pyspark/blob/main/pyspark_day2.ipynb\" target=\"_parent\"><img src=\"https://colab.research.google.com/assets/colab-badge.svg\" alt=\"Open In Colab\"/></a>"
      ]
    },
    {
      "cell_type": "code",
      "execution_count": 1,
      "metadata": {
        "colab": {
          "base_uri": "https://localhost:8080/"
        },
        "id": "fsw17Ap4Y_lU",
        "outputId": "020397d2-bed5-4b24-a42e-086b181985db"
      },
      "outputs": [
        {
          "output_type": "stream",
          "name": "stdout",
          "text": [
            "+----------+-----------+------+----------------+------------+------------+\n",
            "|  SaleDate|SalesPerson|Amount|PreviousDaySales|NextDaySales|RunningTotal|\n",
            "+----------+-----------+------+----------------+------------+------------+\n",
            "|2025-08-01|          A|   200|            NULL|         300|         200|\n",
            "|2025-08-02|          A|   300|             200|         150|         500|\n",
            "|2025-08-03|          A|   150|             300|        NULL|         650|\n",
            "|2025-08-01|          B|   400|            NULL|         250|         400|\n",
            "|2025-08-02|          B|   250|             400|         350|         650|\n",
            "|2025-08-03|          B|   350|             250|        NULL|        1000|\n",
            "+----------+-----------+------+----------------+------------+------------+\n",
            "\n"
          ]
        }
      ],
      "source": [
        "from pyspark.sql import SparkSession\n",
        "from pyspark.sql.functions import col, lag, lead, sum as _sum\n",
        "from pyspark.sql.window import Window\n",
        "\n",
        "# Initialize Spark session\n",
        "spark = SparkSession.builder.appName(\"SalesAnalysis\").getOrCreate()\n",
        "\n",
        "# Sample data\n",
        "data = [\n",
        "    ('2025-08-01', 'A', 200),\n",
        "    ('2025-08-02', 'A', 300),\n",
        "    ('2025-08-03', 'A', 150),\n",
        "    ('2025-08-01', 'B', 400),\n",
        "    ('2025-08-02', 'B', 250),\n",
        "    ('2025-08-03', 'B', 350)\n",
        "]\n",
        "\n",
        "# Create DataFrame\n",
        "columns = ['SaleDate', 'SalesPerson', 'Amount']\n",
        "df = spark.createDataFrame(data, columns)\n",
        "\n",
        "\n",
        "# ⏮️ LAG Function\n",
        "# ✅ Purpose:\n",
        "# Retrieves a value from a previous row in the same partition.\n",
        "\n",
        "#  ⏭️ LEAD Function\n",
        "# ✅ Purpose:\n",
        "# Retrieves a value from a future row in the same partition.\n",
        "\n",
        "#  ✅ Purpose:\n",
        "# To access data from a different row relative to the current row — either before (LAG) or after (LEAD).\n",
        "# 🔍 How It Works:\n",
        "# Returns the value of a column from a previous or next row\n",
        "# Does not aggregate — it's a positional lookup\n",
        "# Useful for comparisons, trend analysis, or change detection\n",
        "# ______________________________________________________________________\n",
        "# 🧮 Running Totals\n",
        "# ----------------\n",
        "# ✅ Purpose:--\n",
        "# To compute a cumulative sum (or other aggregate) up to the current row within a partition.\n",
        "# 🔍 How It Works:\n",
        "# Uses aggregate functions like SUM(), AVG(), etc.\n",
        "# Requires a window frame (e.g., ROWS BETWEEN UNBOUNDED PRECEDING AND CURRENT ROW)\n",
        "# Aggregates values from the start of the partition to the current row\n",
        "\n",
        "# Convert SaleDate to DateType if needed\n",
        "from pyspark.sql.functions import to_date\n",
        "df = df.withColumn(\"SaleDate\", to_date(col(\"SaleDate\"), \"yyyy-MM-dd\"))\n",
        "\n",
        "\n",
        "# Define window spec partitioned by SalesPerson and ordered by SaleDate\n",
        "window_spec = Window.partitionBy(\"SalesPerson\").orderBy(\"SaleDate\")\n",
        "\n",
        "# Add previous day sales, next day sales, and running total\n",
        "result_df = df.withColumn(\"PreviousDaySales\", lag(\"Amount\").over(window_spec)) \\\n",
        "              .withColumn(\"NextDaySales\", lead(\"Amount\").over(window_spec)) \\\n",
        "              .withColumn(\"RunningTotal\", _sum(\"Amount\").over(window_spec.rowsBetween(Window.unboundedPreceding, Window.currentRow)))\n",
        "\n",
        "# Show result\n",
        "result_df.orderBy(\"SalesPerson\", \"SaleDate\").show()"
      ]
    }
  ]
}